{
 "cells": [
  {
   "cell_type": "code",
   "execution_count": 6,
   "id": "50c10fa4",
   "metadata": {},
   "outputs": [],
   "source": [
    "import selenium\n",
    "from selenium import webdriver\n",
    "from selenium.webdriver import ActionChains\n",
    "\n",
    "from selenium.webdriver.common.keys import Keys\n",
    "from selenium.webdriver.common.by import By\n",
    "\n",
    "from selenium.webdriver.support import expected_conditions as EC\n",
    "from selenium.webdriver.support.ui import Select\n",
    "from selenium.webdriver.support.ui import WebDriverWait\n",
    "\n",
    "from time import sleep"
   ]
  },
  {
   "cell_type": "code",
   "execution_count": 11,
   "id": "aaba9c96",
   "metadata": {},
   "outputs": [],
   "source": [
    "options = webdriver.ChromeOptions()\n",
    "options.add_experimental_option('detach', True)\n",
    "options.add_argument('window-size=1920,1080')\n",
    "driver = webdriver.Chrome(executable_path='chromedriver', options=options)\n",
    "driver.implicitly_wait(time_to_wait=5)\n",
    "\n",
    "\"\"\"place_num에 원하는 상호의 가게 번호 입력하기\"\"\"\n",
    "place_num = 170899606\n",
    "URL = 'https://map.naver.com/v5/entry/place/' + str(place_num)\n",
    "driver.get(url=URL)\n",
    "\n",
    "search_box = driver.find_elements(By.XPATH, '/html/body/div[3]/div/div/div/div[2]/div[1]/div[1]/span[1]')"
   ]
  },
  {
   "cell_type": "code",
   "execution_count": null,
   "id": "bb98c958",
   "metadata": {},
   "outputs": [],
   "source": []
  },
  {
   "cell_type": "code",
   "execution_count": null,
   "id": "c7252d41",
   "metadata": {},
   "outputs": [],
   "source": []
  }
 ],
 "metadata": {
  "kernelspec": {
   "display_name": "Python 3 (ipykernel)",
   "language": "python",
   "name": "python3"
  },
  "language_info": {
   "codemirror_mode": {
    "name": "ipython",
    "version": 3
   },
   "file_extension": ".py",
   "mimetype": "text/x-python",
   "name": "python",
   "nbconvert_exporter": "python",
   "pygments_lexer": "ipython3",
   "version": "3.10.7"
  }
 },
 "nbformat": 4,
 "nbformat_minor": 5
}
